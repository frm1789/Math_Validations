{
  "nbformat": 4,
  "nbformat_minor": 0,
  "metadata": {
    "colab": {
      "provenance": [],
      "authorship_tag": "ABX9TyMscfGXmopPmmVV5ueTGFAC",
      "include_colab_link": true
    },
    "kernelspec": {
      "name": "python3",
      "display_name": "Python 3"
    },
    "language_info": {
      "name": "python"
    }
  },
  "cells": [
    {
      "cell_type": "markdown",
      "metadata": {
        "id": "view-in-github",
        "colab_type": "text"
      },
      "source": [
        "<a href=\"https://colab.research.google.com/github/frm1789/Math_Validations/blob/main/Comparing_Two_Normal_Distribution.ipynb\" target=\"_parent\"><img src=\"https://colab.research.google.com/assets/colab-badge.svg\" alt=\"Open In Colab\"/></a>"
      ]
    },
    {
      "cell_type": "markdown",
      "source": [
        "## Comparing two normal distributions"
      ],
      "metadata": {
        "id": "nsiVFRDHH0X-"
      }
    },
    {
      "cell_type": "code",
      "source": [
        "import numpy as np\n",
        "import matplotlib.pyplot as plt\n",
        "\n",
        "def simulate_volatility(mean1, std1, mean2, std2, num_samples):\n",
        "    # Generate samples from the first normal distribution\n",
        "    samples1 = np.random.normal(mean1, std1, num_samples)\n",
        "    \n",
        "    # Generate samples from the second normal distribution\n",
        "    samples2 = np.random.normal(mean2, std2, num_samples)\n",
        "    \n",
        "    # Sum the samples from the two distributions\n",
        "    sum_samples = samples1 + samples2\n",
        "\n",
        "    # Plot the histograms of the samples from each distribution and the sum\n",
        "    plt.hist(samples1, bins=50, alpha=0.5, label=\"Distribution 1\")\n",
        "    plt.hist(samples2, bins=50, alpha=0.5, label=\"Distribution 2\")\n",
        "    plt.hist(sum_samples, bins=50, alpha=0.5, label=\"Sum\")\n",
        "    plt.xlabel(\"Value\")\n",
        "    plt.ylabel(\"Frequency\")\n",
        "    plt.legend()\n",
        "    plt.show()\n",
        "    \n",
        "    return sum_samples\n"
      ],
      "metadata": {
        "id": "4Oc5WOgXktcz"
      },
      "execution_count": null,
      "outputs": []
    },
    {
      "cell_type": "markdown",
      "source": [
        "## Visualization of both normal distributions"
      ],
      "metadata": {
        "id": "xzGeWcSlH7bJ"
      }
    },
    {
      "cell_type": "code",
      "execution_count": null,
      "metadata": {
        "colab": {
          "base_uri": "https://localhost:8080/",
          "height": 314
        },
        "id": "dPeX0UWRKJc9",
        "outputId": "032d2e0d-3eb6-46ea-c334-1813300cf821"
      },
      "outputs": [
        {
          "output_type": "display_data",
          "data": {
            "text/plain": [
              "<Figure size 432x288 with 1 Axes>"
            ],
            "image/png": "[encoded data removed]"
          },
          "metadata": {
            "needs_background": "light"
          }
        },
        {
          "output_type": "execute_result",
          "data": {
            "text/plain": [
              "array([0.6347248 , 2.76023143, 3.30108292, ..., 2.94656342, 2.86005603,\n",
              "       2.47750638])"
            ]
          },
          "metadata": {},
          "execution_count": 3
        }
      ],
      "source": [
        "mean1 = 0\n",
        "std1 = 1\n",
        "mean2 = 2\n",
        "std2 = 1\n",
        "num_samples = 10000\n",
        "\n",
        "simulate_volatility(mean1, std1, mean2, std2, num_samples)\n",
        "\n"
      ]
    }
  ]
}